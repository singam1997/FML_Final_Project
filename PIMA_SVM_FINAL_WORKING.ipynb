{
  "nbformat": 4,
  "nbformat_minor": 0,
  "metadata": {
    "colab": {
      "name": "PIMA_SVM_FINAL_WORKING.ipynb",
      "provenance": []
    },
    "kernelspec": {
      "name": "python3",
      "display_name": "Python 3"
    },
    "language_info": {
      "name": "python"
    }
  },
  "cells": [
    {
      "cell_type": "code",
      "metadata": {
        "id": "IZc5zY-YoIfe"
      },
      "source": [
        "import pandas as pd\n",
        "import math\n",
        "from sklearn.preprocessing import StandardScaler\n",
        "from sklearn.pipeline import make_pipeline\n",
        "from sklearn.decomposition import PCA\n",
        "import numpy as np\n",
        "from sklearn.impute import SimpleImputer\n",
        "from sklearn import preprocessing\n",
        "from sklearn.model_selection import GridSearchCV"
      ],
      "execution_count": 1,
      "outputs": []
    },
    {
      "cell_type": "code",
      "metadata": {
        "id": "Nc6XRGpHo5qi"
      },
      "source": [
        "def pre_process(file_name):\n",
        "  diabetes_data=pd.read_csv(file_name)\n",
        "  size=len(diabetes_data)\n",
        "\n",
        "  X=diabetes_data[[\"Pregnancies\" \t,\"Glucose\" ,\t\"BloodPressure\", \t\"SkinThickness\", \t\"Insulin\",\t\"BMI\", \t\"DiabetesPedigreeFunction\" ,\t\"Age\"]]\n",
        "  y=diabetes_data[[\"Outcome\"]]\n",
        "\n",
        "  X_withNaNs=X[[\"Pregnancies\" \t,\"Glucose\" ,\t\"BloodPressure\", \t\"SkinThickness\", \t\"Insulin\",\t\"BMI\", \t\"DiabetesPedigreeFunction\" ,\t\"Age\"]].replace({0: np.nan}, inplace=False)\n",
        "  # https://scikit-learn.org/stable/modules/impute.html\n",
        "  imp = SimpleImputer(missing_values=np.nan, strategy='mean')\n",
        "  imp.fit(X_withNaNs)\n",
        "  X_uni_impute=imp.transform(X_withNaNs)\n",
        "\n",
        "  df=pd.DataFrame(X_uni_impute)\n",
        "  col_names = list(df)\n",
        "  outlier_indices = []\n",
        "  for i in col_names:\n",
        "      Q1 = np.quantile(df[i],0.25)\n",
        "      Q3 = np.quantile(df[i],0.75)\n",
        "      IQR = Q3 - Q1\n",
        "\n",
        "      lower_range = Q1 - 1.5 * IQR\n",
        "      upper_range = Q3 + 1.5 * IQR\n",
        "      for j in range(0,(df.shape[0])):\n",
        "          if (df[i][j] < lower_range) or (df[i][j] > upper_range):\n",
        "              # print(\"out_ind\",outlier_indices)        \n",
        "              outlier_indices.append(j)\n",
        "      \n",
        "      if outlier_indices!=[]:\n",
        "          outlier_indices = list(set(outlier_indices))\n",
        "  outlier_indices.sort()\n",
        "  data_new = df[[i not in outlier_indices for i in range(0,df.shape[0])]]\n",
        "  outlier_removed_mean_X=data_new\n",
        "  outlier_removed_y=pd.DataFrame(y)[[i not in outlier_indices for i in range(0,df.shape[0])]]\n",
        "  size=len(outlier_removed_y)\n",
        "  train_X=outlier_removed_mean_X[0:math.floor(0.8*size)]\n",
        "\n",
        "  scaler = preprocessing.StandardScaler().fit(train_X)\n",
        "  outlier_removed_mean_scaled_X=scaler.transform(outlier_removed_mean_X)\n",
        "  outlier_removed_not_scaled_y=outlier_removed_y\n",
        "  outlier_removed_mean_scaled_X=pd.DataFrame(outlier_removed_mean_scaled_X)\n",
        "  outlier_removed_mean_scaled_X.columns =[\"Pregnancies\" \t,\"Glucose\" ,\t\"BloodPressure\", \t\"SkinThickness\", \t\"Insulin\",\t\"BMI\", \t\"DiabetesPedigreeFunction\" ,\t\"Age\"]\n",
        "\n",
        "  outlier_removed_mean_scaled_X=pd.DataFrame(outlier_removed_mean_scaled_X)\n",
        "  outlier_removed_mean_scaled_X.columns =[\"Pregnancies\" \t,\"Glucose\" ,\t\"BloodPressure\", \t\"SkinThickness\", \t\"Insulin\",\t\"BMI\", \t\"DiabetesPedigreeFunction\" ,\t\"Age\"]\n",
        "\n",
        "  data=outlier_removed_mean_scaled_X[[\"Glucose\",\"SkinThickness\",\"DiabetesPedigreeFunction\",\"Age\"]]\n",
        "\n",
        "  return (scaler,data,outlier_removed_not_scaled_y)"
      ],
      "execution_count": 32,
      "outputs": []
    },
    {
      "cell_type": "code",
      "metadata": {
        "id": "L-jwPEbDrLDO"
      },
      "source": [
        "def split_data(data,outlier_removed_not_scaled_y):\n",
        "  size=len(data)\n",
        "  train_X=data[0:math.floor(0.8*size)]\n",
        "  train_y=outlier_removed_not_scaled_y[0:math.floor(0.8*size)]\n",
        "  test_X=data[math.floor(0.8*size):math.floor(size)]\n",
        "  test_y=outlier_removed_not_scaled_y[math.floor(0.8*size):math.floor(size)]\n",
        "  return (train_X,train_y,test_X,test_y)"
      ],
      "execution_count": 33,
      "outputs": []
    },
    {
      "cell_type": "code",
      "metadata": {
        "id": "WNCilLdvoQNH"
      },
      "source": [
        "\n",
        "def train_test_score(train_X,train_y,test_X,test_y):\n",
        "  from sklearn import svm\n",
        "  from sklearn.metrics import classification_report, confusion_matrix\n",
        "\n",
        "  param_grid = {'C': [0.0001,0.001,0.01,0.1, 1, 10, 100, 1000,10000],\n",
        "\n",
        "                'gamma': [1000,100,10,1, 0.1, 0.01, 0.001, 0.0001,0.00001,0.000001,0.0000001,1e-07,1e-08,1e-09,1e-010,1e-011],\n",
        "\n",
        "                'kernel': ['rbf']}\n",
        "\n",
        "  grid = GridSearchCV(svm.SVC(class_weight=\"balanced\",cache_size=100000), param_grid, refit = True, verbose = 3,n_jobs=10)\n",
        "\n",
        "  grid.fit(train_X, train_y)\n",
        "  from sklearn.metrics import accuracy_score\n",
        "  cf_matrix = confusion_matrix(test_y, grid.predict(test_X))\n",
        "\n",
        "  from sklearn.metrics import classification_report, confusion_matrix\n",
        "  print(classification_report(train_y,  grid.predict(train_X)))\n",
        "\n",
        "\n",
        "  import seaborn as sns\n",
        "  sns.heatmap(cf_matrix, annot=True, fmt='g')\n",
        "  return grid\n"
      ],
      "execution_count": 34,
      "outputs": []
    },
    {
      "cell_type": "code",
      "metadata": {
        "colab": {
          "base_uri": "https://localhost:8080/",
          "height": 493
        },
        "id": "ag4QlujHoujo",
        "outputId": "2da0c274-f779-454e-d175-c1d215be309b"
      },
      "source": [
        "file_name=\"/content/drive/MyDrive/diabetes.csv\"\n",
        "(scaler,X,y)=pre_process(file_name)\n",
        "(train_X,train_y,test_X,test_y)=split_data(X,y)\n",
        "clf=train_test_score(train_X,train_y,test_X,test_y)"
      ],
      "execution_count": 35,
      "outputs": [
        {
          "output_type": "stream",
          "name": "stdout",
          "text": [
            "Fitting 5 folds for each of 144 candidates, totalling 720 fits\n",
            "              precision    recall  f1-score   support\n",
            "\n",
            "           0       0.79      0.82      0.81       269\n",
            "           1       0.62      0.57      0.59       137\n",
            "\n",
            "    accuracy                           0.74       406\n",
            "   macro avg       0.70      0.70      0.70       406\n",
            "weighted avg       0.73      0.74      0.73       406\n",
            "\n"
          ]
        },
        {
          "output_type": "stream",
          "name": "stderr",
          "text": [
            "/usr/local/lib/python3.7/dist-packages/sklearn/utils/validation.py:985: DataConversionWarning: A column-vector y was passed when a 1d array was expected. Please change the shape of y to (n_samples, ), for example using ravel().\n",
            "  y = column_or_1d(y, warn=True)\n"
          ]
        },
        {
          "output_type": "display_data",
          "data": {
            "image/png": "[encoded data removed]",
            "text/plain": [
              "<Figure size 432x288 with 2 Axes>"
            ]
          },
          "metadata": {
            "needs_background": "light"
          }
        }
      ]
    },
    {
      "cell_type": "code",
      "metadata": {
        "id": "ST2HMoi1uzQK"
      },
      "source": [
        "def forecast(scaler,clf,Glucose,SkinThickness,DiabetesPedigreeFunction,Age):\n",
        "  transformed=scaler.transform([[0,Glucose,0,SkinThickness,0,0,DiabetesPedigreeFunction,Age]])[0]\n",
        "  df=pd.DataFrame([[transformed[1],transformed[3],transformed[6],transformed[7]]],columns=[\"Glucose\",\"SkinThickness\",\"DiabetesPedigreeFunction\",\"Age\"])\n",
        "  if clf.predict(df)[0]==1:\n",
        "    print(\"Likely to be diabetic in the next 5 years\")\n",
        "  else:\n",
        "    print(\"Unlikely to be diabetic in the next 5 years\")"
      ],
      "execution_count": 45,
      "outputs": []
    },
    {
      "cell_type": "code",
      "metadata": {
        "colab": {
          "base_uri": "https://localhost:8080/"
        },
        "id": "I9Mdx5xcvgmE",
        "outputId": "39c54313-3658-4192-9210-cee87ed7706b"
      },
      "source": [
        "forecast(scaler,clf,148,35,0.627,50)"
      ],
      "execution_count": 46,
      "outputs": [
        {
          "output_type": "stream",
          "name": "stdout",
          "text": [
            "Likely to be diabetic in the next 5 years\n"
          ]
        }
      ]
    },
    {
      "cell_type": "code",
      "metadata": {
        "id": "fg1ElE65vt5w"
      },
      "source": [
        ""
      ],
      "execution_count": null,
      "outputs": []
    }
  ]
}